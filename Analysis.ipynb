{
 "cells": [
  {
   "cell_type": "code",
   "execution_count": 9,
   "metadata": {
    "vscode": {
     "languageId": "r"
    }
   },
   "outputs": [
    {
     "name": "stderr",
     "output_type": "stream",
     "text": [
      "Installing package into 'C:/Users/hlala/AppData/Local/R/win-library/4.3'\n",
      "(as 'lib' is unspecified)\n",
      "\n"
     ]
    },
    {
     "name": "stdout",
     "output_type": "stream",
     "text": [
      "package 'readr' successfully unpacked and MD5 sums checked\n",
      "\n",
      "The downloaded binary packages are in\n",
      "\tC:\\Users\\hlala\\AppData\\Local\\Temp\\RtmpuOrHPC\\downloaded_packages\n"
     ]
    }
   ],
   "source": [
    "# Install the readr package\n",
    "install.packages(\"readr\")"
   ]
  },
  {
   "cell_type": "code",
   "execution_count": 10,
   "metadata": {
    "vscode": {
     "languageId": "r"
    }
   },
   "outputs": [
    {
     "data": {
      "text/html": [
       "<table class=\"dataframe\">\n",
       "<caption>A data.frame: 6 × 22</caption>\n",
       "<thead>\n",
       "\t<tr><th></th><th scope=col>X</th><th scope=col>Person_id</th><th scope=col>Survey_date</th><th scope=col>Round</th><th scope=col>Status</th><th scope=col>Tenure</th><th scope=col>Geography</th><th scope=col>Province</th><th scope=col>Matric</th><th scope=col>Degree</th><th scope=col>⋯</th><th scope=col>Math</th><th scope=col>Mathlit</th><th scope=col>Additional_lang</th><th scope=col>Home_lang</th><th scope=col>Science</th><th scope=col>Female</th><th scope=col>Sa_citizen</th><th scope=col>Birthyear</th><th scope=col>Birthmonth</th><th scope=col>Target</th></tr>\n",
       "\t<tr><th></th><th scope=col>&lt;int&gt;</th><th scope=col>&lt;chr&gt;</th><th scope=col>&lt;chr&gt;</th><th scope=col>&lt;int&gt;</th><th scope=col>&lt;chr&gt;</th><th scope=col>&lt;dbl&gt;</th><th scope=col>&lt;chr&gt;</th><th scope=col>&lt;chr&gt;</th><th scope=col>&lt;dbl&gt;</th><th scope=col>&lt;dbl&gt;</th><th scope=col>⋯</th><th scope=col>&lt;chr&gt;</th><th scope=col>&lt;chr&gt;</th><th scope=col>&lt;chr&gt;</th><th scope=col>&lt;chr&gt;</th><th scope=col>&lt;chr&gt;</th><th scope=col>&lt;int&gt;</th><th scope=col>&lt;int&gt;</th><th scope=col>&lt;int&gt;</th><th scope=col>&lt;int&gt;</th><th scope=col>&lt;int&gt;</th></tr>\n",
       "</thead>\n",
       "<tbody>\n",
       "\t<tr><th scope=row>1</th><td>0</td><td>Id_eqz61wz7yn</td><td>2022-02-23</td><td>2</td><td>studying  </td><td> 427</td><td>Rural </td><td>Mpumalanga   </td><td>1</td><td>0</td><td>⋯</td><td>0 - 29 % </td><td>60 - 69 %</td><td>50 - 59 %</td><td>40 - 49 %</td><td>0 - 29 % </td><td>1</td><td>1</td><td>2000</td><td> 5</td><td>0</td></tr>\n",
       "\t<tr><th scope=row>2</th><td>1</td><td>Id_kj5k3g5wud</td><td>2023-02-06</td><td>4</td><td>unemployed</td><td> 427</td><td>Suburb</td><td>North West   </td><td>1</td><td>0</td><td>⋯</td><td>30 - 39 %</td><td>60 - 69 %</td><td>40 - 49 %</td><td>40 - 49 %</td><td>30 - 39 %</td><td>1</td><td>1</td><td>1989</td><td> 4</td><td>1</td></tr>\n",
       "\t<tr><th scope=row>3</th><td>2</td><td>Id_9h0isj38y4</td><td>2022-08-08</td><td>3</td><td>other     </td><td> 810</td><td>Urban </td><td>Free State   </td><td>1</td><td>0</td><td>⋯</td><td>30 - 39 %</td><td>60 - 69 %</td><td>40 - 49 %</td><td>40 - 49 %</td><td>30 - 39 %</td><td>0</td><td>1</td><td>1996</td><td> 7</td><td>1</td></tr>\n",
       "\t<tr><th scope=row>4</th><td>3</td><td>Id_5ch3zwpdef</td><td>2022-03-16</td><td>2</td><td>unemployed</td><td> 810</td><td>Urban </td><td>Eastern Cape </td><td>1</td><td>0</td><td>⋯</td><td>30 - 39 %</td><td>60 - 69 %</td><td>60 - 69 %</td><td>40 - 49 %</td><td>40 - 49 %</td><td>0</td><td>1</td><td>2000</td><td> 1</td><td>0</td></tr>\n",
       "\t<tr><th scope=row>5</th><td>4</td><td>Id_g4elxibjej</td><td>2023-03-22</td><td>4</td><td>studying  </td><td>1826</td><td>Urban </td><td>Limpopo      </td><td>1</td><td>0</td><td>⋯</td><td>30 - 39 %</td><td>60 - 69 %</td><td>60 - 69 %</td><td>40 - 49 %</td><td>40 - 49 %</td><td>1</td><td>1</td><td>1998</td><td>12</td><td>0</td></tr>\n",
       "\t<tr><th scope=row>6</th><td>5</td><td>Id_l9uksprsdf</td><td>2023-03-23</td><td>4</td><td>studying  </td><td>1826</td><td>Rural </td><td>KwaZulu-Natal</td><td>1</td><td>0</td><td>⋯</td><td>30 - 39 %</td><td>60 - 69 %</td><td>60 - 69 %</td><td>40 - 49 %</td><td>40 - 49 %</td><td>1</td><td>1</td><td>1996</td><td>12</td><td>0</td></tr>\n",
       "</tbody>\n",
       "</table>\n"
      ],
      "text/latex": [
       "A data.frame: 6 × 22\n",
       "\\begin{tabular}{r|lllllllllllllllllllll}\n",
       "  & X & Person\\_id & Survey\\_date & Round & Status & Tenure & Geography & Province & Matric & Degree & ⋯ & Math & Mathlit & Additional\\_lang & Home\\_lang & Science & Female & Sa\\_citizen & Birthyear & Birthmonth & Target\\\\\n",
       "  & <int> & <chr> & <chr> & <int> & <chr> & <dbl> & <chr> & <chr> & <dbl> & <dbl> & ⋯ & <chr> & <chr> & <chr> & <chr> & <chr> & <int> & <int> & <int> & <int> & <int>\\\\\n",
       "\\hline\n",
       "\t1 & 0 & Id\\_eqz61wz7yn & 2022-02-23 & 2 & studying   &  427 & Rural  & Mpumalanga    & 1 & 0 & ⋯ & 0 - 29 \\%  & 60 - 69 \\% & 50 - 59 \\% & 40 - 49 \\% & 0 - 29 \\%  & 1 & 1 & 2000 &  5 & 0\\\\\n",
       "\t2 & 1 & Id\\_kj5k3g5wud & 2023-02-06 & 4 & unemployed &  427 & Suburb & North West    & 1 & 0 & ⋯ & 30 - 39 \\% & 60 - 69 \\% & 40 - 49 \\% & 40 - 49 \\% & 30 - 39 \\% & 1 & 1 & 1989 &  4 & 1\\\\\n",
       "\t3 & 2 & Id\\_9h0isj38y4 & 2022-08-08 & 3 & other      &  810 & Urban  & Free State    & 1 & 0 & ⋯ & 30 - 39 \\% & 60 - 69 \\% & 40 - 49 \\% & 40 - 49 \\% & 30 - 39 \\% & 0 & 1 & 1996 &  7 & 1\\\\\n",
       "\t4 & 3 & Id\\_5ch3zwpdef & 2022-03-16 & 2 & unemployed &  810 & Urban  & Eastern Cape  & 1 & 0 & ⋯ & 30 - 39 \\% & 60 - 69 \\% & 60 - 69 \\% & 40 - 49 \\% & 40 - 49 \\% & 0 & 1 & 2000 &  1 & 0\\\\\n",
       "\t5 & 4 & Id\\_g4elxibjej & 2023-03-22 & 4 & studying   & 1826 & Urban  & Limpopo       & 1 & 0 & ⋯ & 30 - 39 \\% & 60 - 69 \\% & 60 - 69 \\% & 40 - 49 \\% & 40 - 49 \\% & 1 & 1 & 1998 & 12 & 0\\\\\n",
       "\t6 & 5 & Id\\_l9uksprsdf & 2023-03-23 & 4 & studying   & 1826 & Rural  & KwaZulu-Natal & 1 & 0 & ⋯ & 30 - 39 \\% & 60 - 69 \\% & 60 - 69 \\% & 40 - 49 \\% & 40 - 49 \\% & 1 & 1 & 1996 & 12 & 0\\\\\n",
       "\\end{tabular}\n"
      ],
      "text/markdown": [
       "\n",
       "A data.frame: 6 × 22\n",
       "\n",
       "| <!--/--> | X &lt;int&gt; | Person_id &lt;chr&gt; | Survey_date &lt;chr&gt; | Round &lt;int&gt; | Status &lt;chr&gt; | Tenure &lt;dbl&gt; | Geography &lt;chr&gt; | Province &lt;chr&gt; | Matric &lt;dbl&gt; | Degree &lt;dbl&gt; | ⋯ ⋯ | Math &lt;chr&gt; | Mathlit &lt;chr&gt; | Additional_lang &lt;chr&gt; | Home_lang &lt;chr&gt; | Science &lt;chr&gt; | Female &lt;int&gt; | Sa_citizen &lt;int&gt; | Birthyear &lt;int&gt; | Birthmonth &lt;int&gt; | Target &lt;int&gt; |\n",
       "|---|---|---|---|---|---|---|---|---|---|---|---|---|---|---|---|---|---|---|---|---|---|\n",
       "| 1 | 0 | Id_eqz61wz7yn | 2022-02-23 | 2 | studying   |  427 | Rural  | Mpumalanga    | 1 | 0 | ⋯ | 0 - 29 %  | 60 - 69 % | 50 - 59 % | 40 - 49 % | 0 - 29 %  | 1 | 1 | 2000 |  5 | 0 |\n",
       "| 2 | 1 | Id_kj5k3g5wud | 2023-02-06 | 4 | unemployed |  427 | Suburb | North West    | 1 | 0 | ⋯ | 30 - 39 % | 60 - 69 % | 40 - 49 % | 40 - 49 % | 30 - 39 % | 1 | 1 | 1989 |  4 | 1 |\n",
       "| 3 | 2 | Id_9h0isj38y4 | 2022-08-08 | 3 | other      |  810 | Urban  | Free State    | 1 | 0 | ⋯ | 30 - 39 % | 60 - 69 % | 40 - 49 % | 40 - 49 % | 30 - 39 % | 0 | 1 | 1996 |  7 | 1 |\n",
       "| 4 | 3 | Id_5ch3zwpdef | 2022-03-16 | 2 | unemployed |  810 | Urban  | Eastern Cape  | 1 | 0 | ⋯ | 30 - 39 % | 60 - 69 % | 60 - 69 % | 40 - 49 % | 40 - 49 % | 0 | 1 | 2000 |  1 | 0 |\n",
       "| 5 | 4 | Id_g4elxibjej | 2023-03-22 | 4 | studying   | 1826 | Urban  | Limpopo       | 1 | 0 | ⋯ | 30 - 39 % | 60 - 69 % | 60 - 69 % | 40 - 49 % | 40 - 49 % | 1 | 1 | 1998 | 12 | 0 |\n",
       "| 6 | 5 | Id_l9uksprsdf | 2023-03-23 | 4 | studying   | 1826 | Rural  | KwaZulu-Natal | 1 | 0 | ⋯ | 30 - 39 % | 60 - 69 % | 60 - 69 % | 40 - 49 % | 40 - 49 % | 1 | 1 | 1996 | 12 | 0 |\n",
       "\n"
      ],
      "text/plain": [
       "  X Person_id     Survey_date Round Status     Tenure Geography Province     \n",
       "1 0 Id_eqz61wz7yn 2022-02-23  2     studying    427   Rural     Mpumalanga   \n",
       "2 1 Id_kj5k3g5wud 2023-02-06  4     unemployed  427   Suburb    North West   \n",
       "3 2 Id_9h0isj38y4 2022-08-08  3     other       810   Urban     Free State   \n",
       "4 3 Id_5ch3zwpdef 2022-03-16  2     unemployed  810   Urban     Eastern Cape \n",
       "5 4 Id_g4elxibjej 2023-03-22  4     studying   1826   Urban     Limpopo      \n",
       "6 5 Id_l9uksprsdf 2023-03-23  4     studying   1826   Rural     KwaZulu-Natal\n",
       "  Matric Degree ⋯ Math      Mathlit   Additional_lang Home_lang Science  \n",
       "1 1      0      ⋯ 0 - 29 %  60 - 69 % 50 - 59 %       40 - 49 % 0 - 29 % \n",
       "2 1      0      ⋯ 30 - 39 % 60 - 69 % 40 - 49 %       40 - 49 % 30 - 39 %\n",
       "3 1      0      ⋯ 30 - 39 % 60 - 69 % 40 - 49 %       40 - 49 % 30 - 39 %\n",
       "4 1      0      ⋯ 30 - 39 % 60 - 69 % 60 - 69 %       40 - 49 % 40 - 49 %\n",
       "5 1      0      ⋯ 30 - 39 % 60 - 69 % 60 - 69 %       40 - 49 % 40 - 49 %\n",
       "6 1      0      ⋯ 30 - 39 % 60 - 69 % 60 - 69 %       40 - 49 % 40 - 49 %\n",
       "  Female Sa_citizen Birthyear Birthmonth Target\n",
       "1 1      1          2000       5         0     \n",
       "2 1      1          1989       4         1     \n",
       "3 0      1          1996       7         1     \n",
       "4 0      1          2000       1         0     \n",
       "5 1      1          1998      12         0     \n",
       "6 1      1          1996      12         0     "
      ]
     },
     "metadata": {},
     "output_type": "display_data"
    }
   ],
   "source": [
    "# Load the readr package\n",
    "\n",
    "Train<- read.csv(\"cleaned_train.csv\")\n",
    "head(Train)\n"
   ]
  },
  {
   "cell_type": "code",
   "execution_count": 11,
   "metadata": {
    "vscode": {
     "languageId": "r"
    }
   },
   "outputs": [
    {
     "name": "stderr",
     "output_type": "stream",
     "text": [
      "Warning message:\n",
      "\"package 'ggplot2' is in use and will not be installed\"\n",
      "Warning message:\n",
      "\"package 'ggpubr' is in use and will not be installed\"\n",
      "Warning message:\n",
      "\"package 'dplyr' is in use and will not be installed\"\n"
     ]
    }
   ],
   "source": [
    "install.packages(\"ggplot2\")\n",
    "install.packages(\"ggpubr\")\n",
    "install.packages(\"dplyr\")\n",
    "\n"
   ]
  },
  {
   "cell_type": "code",
   "execution_count": 12,
   "metadata": {
    "vscode": {
     "languageId": "r"
    }
   },
   "outputs": [
    {
     "data": {
      "image/png": "[encoded data removed]",
      "text/plain": [
       "Plot with title \"Histogram of Tenure\""
      ]
     },
     "metadata": {
      "image/png": {
       "height": 420,
       "width": 420
      }
     },
     "output_type": "display_data"
    }
   ],
   "source": [
    "# Generate a histogram of the tenure variable\n",
    "hist(Train$Tenure,\n",
    "     xlab = \"Tenure\",\n",
    "     ylab = \"Frequency\",\n",
    "     main = \"Histogram of Tenure\",\n",
    "     col=\"blue\")\n"
   ]
  },
  {
   "cell_type": "code",
   "execution_count": 13,
   "metadata": {
    "vscode": {
     "languageId": "r"
    }
   },
   "outputs": [],
   "source": [
    "library(ggplot2)\n",
    "library(ggpubr)\n",
    "library(dplyr)\n"
   ]
  },
  {
   "cell_type": "code",
   "execution_count": 14,
   "metadata": {
    "vscode": {
     "languageId": "r"
    }
   },
   "outputs": [
    {
     "data": {
      "image/png": "[encoded data removed]",
      "text/plain": [
       "plot without title"
      ]
     },
     "metadata": {
      "image/png": {
       "height": 420,
       "width": 420
      }
     },
     "output_type": "display_data"
    }
   ],
   "source": [
    "ggplot(Train, aes(x = \"\", y = Birthyear)) +\n",
    "  geom_boxplot() +\n",
    "  labs(title = \"Boxplot of Birth Year\", x = \"Birth Year\")\n"
   ]
  },
  {
   "cell_type": "code",
   "execution_count": 15,
   "metadata": {
    "vscode": {
     "languageId": "r"
    }
   },
   "outputs": [
    {
     "data": {
      "text/plain": [
       "   Min. 1st Qu.  Median    Mean 3rd Qu.    Max. \n",
       "   1972    1995    1999    1997    2000    2004 "
      ]
     },
     "metadata": {},
     "output_type": "display_data"
    }
   ],
   "source": [
    "summary(Train$Birthyear)\n"
   ]
  },
  {
   "cell_type": "code",
   "execution_count": 16,
   "metadata": {
    "vscode": {
     "languageId": "r"
    }
   },
   "outputs": [
    {
     "ename": "ERROR",
     "evalue": "Error in eval(expr, envir, enclos): object 'df_train' not found\n",
     "output_type": "error",
     "traceback": [
      "Error in eval(expr, envir, enclos): object 'df_train' not found\nTraceback:\n",
      "1. df_train %>% group_by(Province) %>% summarise(percentage = mean(Target) * \n .     100) %>% arrange(desc(percentage))",
      "2. arrange(., desc(percentage))",
      "3. summarise(., percentage = mean(Target) * 100)",
      "4. group_by(., Province)"
     ]
    }
   ],
   "source": [
    "# Group by Province and calculate the mean (percentage of positive income)\n",
    "df_province <- df_train %>%\n",
    "  group_by(Province) %>%\n",
    "  summarise(percentage = mean(Target) * 100) %>%\n",
    "  arrange(desc(percentage))\n"
   ]
  },
  {
   "cell_type": "code",
   "execution_count": 20,
   "metadata": {
    "vscode": {
     "languageId": "r"
    }
   },
   "outputs": [],
   "source": [
    "# Group by Province and calculate the mean (percentage of positive income)\n",
    "df_province <- Train %>%\n",
    "  group_by(Province) %>%\n",
    "  summarise(percentage = mean(Target) * 100) %>%\n",
    "  arrange(desc(percentage))\n"
   ]
  },
  {
   "cell_type": "code",
   "execution_count": 19,
   "metadata": {
    "vscode": {
     "languageId": "r"
    }
   },
   "outputs": [
    {
     "ename": "ERROR",
     "evalue": "Error in eval(expr, envir, enclos): object 'df_province' not found\n",
     "output_type": "error",
     "traceback": [
      "Error in eval(expr, envir, enclos): object 'df_province' not found\nTraceback:\n",
      "1. ggplot(df_province, aes(x = reorder(Province, -percentage), y = percentage))"
     ]
    }
   ],
   "source": [
    "# Create the bar plot\n",
    "p <- ggplot(df_province, aes(x = reorder(Province, -percentage), y = percentage)) +\n",
    "  geom_bar(stat = \"identity\", fill = \"blue\", alpha = 0.7) +\n",
    "  labs(x = \"Province\", y = \"Percentage of Positive Income\", title = \"Percentage of Positive Income by Province\") +\n",
    "  theme(axis.text.x = element_text(angle = 45, hjust = 1))\n",
    "\n",
    "# Display the bar plot\n",
    "print(p)\n"
   ]
  },
  {
   "cell_type": "code",
   "execution_count": 18,
   "metadata": {
    "vscode": {
     "languageId": "r"
    }
   },
   "outputs": [
    {
     "ename": "ERROR",
     "evalue": "Error in eval(expr, envir, enclos): object 'df_geography' not found\n",
     "output_type": "error",
     "traceback": [
      "Error in eval(expr, envir, enclos): object 'df_geography' not found\nTraceback:\n",
      "1. ggplot(df_geography, aes(x = Geography, y = percentage))"
     ]
    }
   ],
   "source": [
    "# Create the bar plot\n",
    "p <- ggplot(df_geography, aes(x = Geography, y = percentage)) +\n",
    "  geom_bar(stat = \"identity\", fill = \"blue\", alpha = 0.7) +\n",
    "  labs(x = \"Geography\", y = \"Percentage of Positive Income\", title = \"Percentage of Positive Income by Geography\") +\n",
    "  geom_text(aes(label = paste0(round(percentage, 1), \"%\")), vjust = -0.5) +\n",
    "  theme(axis.text.x = element_text(angle = 45, hjust = 1))\n",
    "\n",
    "# Display the bar plot\n",
    "print(p)\n"
   ]
  },
  {
   "cell_type": "code",
   "execution_count": 17,
   "metadata": {
    "vscode": {
     "languageId": "r"
    }
   },
   "outputs": [
    {
     "ename": "ERROR",
     "evalue": "Error in eval(expr, envir, enclos): object 'df_female' not found\n",
     "output_type": "error",
     "traceback": [
      "Error in eval(expr, envir, enclos): object 'df_female' not found\nTraceback:\n",
      "1. ggplot(df_female, aes(x = Female, y = percentage))"
     ]
    }
   ],
   "source": [
    "# Create the bar plot\n",
    "p <- ggplot(df_female, aes(x = Female, y = percentage)) +\n",
    "  geom_bar(stat = \"identity\", fill = \"blue\", alpha = 0.7) +\n",
    "  labs(x = \"Status\", y = \"Percentage of Positive Income\", title = \"Percentage of Positive Income by Gender\") +\n",
    "  geom_text(aes(label = paste0(round(percentage, 1), \"%\")), vjust = -0.5) +\n",
    "  theme(axis.text.x = element_text(angle = 45, hjust = 1))\n",
    "\n",
    "# Display the bar plot\n",
    "print(p)\n"
   ]
  }
 ],
 "metadata": {
  "kernelspec": {
   "display_name": "R",
   "language": "R",
   "name": "ir"
  },
  "language_info": {
   "codemirror_mode": "r",
   "file_extension": ".r",
   "mimetype": "text/x-r-source",
   "name": "R",
   "pygments_lexer": "r",
   "version": "4.3.0"
  },
  "orig_nbformat": 4
 },
 "nbformat": 4,
 "nbformat_minor": 2
}
